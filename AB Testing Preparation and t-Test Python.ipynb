{
 "cells": [
  {
   "cell_type": "markdown",
   "id": "47c6ce5b-5b2b-42bf-8cd1-09992459dd67",
   "metadata": {},
   "source": [
    "# A/B Testing Preparation and t-Test Python"
   ]
  },
  {
   "cell_type": "markdown",
   "id": "cca18263-8eca-4261-bc12-8d6721aa2848",
   "metadata": {},
   "source": [
    "## About the Dataset"
   ]
  },
  {
   "cell_type": "markdown",
   "id": "02f473f2-5f42-4783-a830-7f0c731746f2",
   "metadata": {},
   "source": [
    "This dataset contains performance data from an A/B test comparing two marketing campaigns: a control campaign and a test campaign. It includes key engagement and conversion metrics recorded over a 30-day period for each campaign."
   ]
  },
  {
   "cell_type": "markdown",
   "id": "15a0601e-454b-432e-8047-cbbbf23e5845",
   "metadata": {},
   "source": [
    "### Tasks"
   ]
  },
  {
   "cell_type": "markdown",
   "id": "227c2813-bdb6-4dc0-9a60-dee94d153c01",
   "metadata": {},
   "source": [
    "* Clean the data by handling missing values and inconsistent formatting.\n",
    "* Perform a two-sample t-test to determine whether the difference in KPI - number of purchases (Purchases) between the Control and Test campaigns is statistically significant."
   ]
  },
  {
   "cell_type": "markdown",
   "id": "c5671713-64e6-46a2-afb0-73d11d0088ad",
   "metadata": {},
   "source": [
    "### Data Dictionary"
   ]
  },
  {
   "cell_type": "markdown",
   "id": "2d3d361b-0f53-496e-b25e-677e82fcd27f",
   "metadata": {},
   "source": [
    "* <b>Campaign Name:</b> The name of the campaign - control or test.\n",
    "* <b>Date:</b> Date of the record.\n",
    "* <b>Spend:</b> Amount spent on the campaign in dollars.\n",
    "* <b>of Impressions:</b> Number of impressions the ad crossed through the campaign.\n",
    "* <b>Reach:</b> The number of unique impressions received in the ad.\n",
    "* <b>of Website Clicks:</b> Number of website clicks received through the ads.\n",
    "* <b>of Searches:</b> Number of users who performed searches on the website.\n",
    "* <b>of View Content:</b> Number of users who viewed content and products on the website.\n",
    "* <b>of Add to Cart:</b> Number of users who added products to the cart.\n",
    "* <b>of Purchase:</b> Number of purchases."
   ]
  },
  {
   "cell_type": "markdown",
   "id": "37bff398-553c-4a2f-83a9-bc5ac0edd8ea",
   "metadata": {},
   "source": [
    "## Preparation"
   ]
  },
  {
   "cell_type": "markdown",
   "id": "31e26363-0d06-43dc-9ceb-f4c6bda26ee2",
   "metadata": {},
   "source": [
    "### Loading the Libraries"
   ]
  },
  {
   "cell_type": "markdown",
   "id": "3f438fd3-ce47-4861-9542-08e89cbbf99c",
   "metadata": {},
   "source": [
    "Loading Python relevant libraries"
   ]
  },
  {
   "cell_type": "code",
   "execution_count": 143,
   "id": "e3d61ac2-5d93-4e2f-8f43-770425ca5ac9",
   "metadata": {},
   "outputs": [],
   "source": [
    "import numpy as np\n",
    "import pandas as pd\n",
    "import re\n",
    "from scipy import stats"
   ]
  },
  {
   "cell_type": "code",
   "execution_count": 144,
   "id": "33e0fe6b-05a9-4bd3-baf4-4378c074df73",
   "metadata": {},
   "outputs": [
    {
     "data": {
      "text/plain": [
       "'2.2.1'"
      ]
     },
     "execution_count": 144,
     "metadata": {},
     "output_type": "execute_result"
    }
   ],
   "source": [
    "pd.__version__"
   ]
  },
  {
   "cell_type": "markdown",
   "id": "7543633e-231d-4bb3-a605-5a78035fa5dc",
   "metadata": {},
   "source": [
    "### Loading the Data"
   ]
  },
  {
   "cell_type": "markdown",
   "id": "9bc5e59a-495d-42c4-a4ee-8d0b11f31917",
   "metadata": {},
   "source": [
    "Loading the A/B testing results dataset into a DataFrame"
   ]
  },
  {
   "cell_type": "code",
   "execution_count": 145,
   "id": "e7c12f40-1c19-493d-b42b-e99830a5c7b0",
   "metadata": {},
   "outputs": [],
   "source": [
    "urlControl = 'https://raw.githubusercontent.com/Adi-Shalit/AB-Testing-SQL-Python-Tableau-Project/main/control_group.csv'\n",
    "df_control = pd.read_csv(urlControl, sep = \";\")\n",
    "urlTest = 'https://raw.githubusercontent.com/Adi-Shalit/AB-Testing-SQL-Python-Tableau-Project/main/test_group.csv'\n",
    "df_test = pd.read_csv(urlTest, sep = \";\")"
   ]
  },
  {
   "cell_type": "code",
   "execution_count": 146,
   "id": "d84e3d4a-3983-4656-a5db-d4ce3f07ff7b",
   "metadata": {},
   "outputs": [
    {
     "data": {
      "text/html": [
       "<div>\n",
       "<style scoped>\n",
       "    .dataframe tbody tr th:only-of-type {\n",
       "        vertical-align: middle;\n",
       "    }\n",
       "\n",
       "    .dataframe tbody tr th {\n",
       "        vertical-align: top;\n",
       "    }\n",
       "\n",
       "    .dataframe thead th {\n",
       "        text-align: right;\n",
       "    }\n",
       "</style>\n",
       "<table border=\"1\" class=\"dataframe\">\n",
       "  <thead>\n",
       "    <tr style=\"text-align: right;\">\n",
       "      <th></th>\n",
       "      <th>Campaign Name</th>\n",
       "      <th>Date</th>\n",
       "      <th>Spend [USD]</th>\n",
       "      <th># of Impressions</th>\n",
       "      <th>Reach</th>\n",
       "      <th># of Website Clicks</th>\n",
       "      <th># of Searches</th>\n",
       "      <th># of View Content</th>\n",
       "      <th># of Add to Cart</th>\n",
       "      <th># of Purchase</th>\n",
       "    </tr>\n",
       "  </thead>\n",
       "  <tbody>\n",
       "    <tr>\n",
       "      <th>0</th>\n",
       "      <td>Control Campaign</td>\n",
       "      <td>1.08.2019</td>\n",
       "      <td>2280</td>\n",
       "      <td>82702.0</td>\n",
       "      <td>56930.0</td>\n",
       "      <td>7016.0</td>\n",
       "      <td>2290.0</td>\n",
       "      <td>2159.0</td>\n",
       "      <td>1819.0</td>\n",
       "      <td>618.0</td>\n",
       "    </tr>\n",
       "    <tr>\n",
       "      <th>1</th>\n",
       "      <td>Control Campaign</td>\n",
       "      <td>2.08.2019</td>\n",
       "      <td>1757</td>\n",
       "      <td>121040.0</td>\n",
       "      <td>102513.0</td>\n",
       "      <td>8110.0</td>\n",
       "      <td>2033.0</td>\n",
       "      <td>1841.0</td>\n",
       "      <td>1219.0</td>\n",
       "      <td>511.0</td>\n",
       "    </tr>\n",
       "    <tr>\n",
       "      <th>2</th>\n",
       "      <td>Control Campaign</td>\n",
       "      <td>3.08.2019</td>\n",
       "      <td>2343</td>\n",
       "      <td>131711.0</td>\n",
       "      <td>110862.0</td>\n",
       "      <td>6508.0</td>\n",
       "      <td>1737.0</td>\n",
       "      <td>1549.0</td>\n",
       "      <td>1134.0</td>\n",
       "      <td>372.0</td>\n",
       "    </tr>\n",
       "    <tr>\n",
       "      <th>3</th>\n",
       "      <td>Control Campaign</td>\n",
       "      <td>4.08.2019</td>\n",
       "      <td>1940</td>\n",
       "      <td>72878.0</td>\n",
       "      <td>61235.0</td>\n",
       "      <td>3065.0</td>\n",
       "      <td>1042.0</td>\n",
       "      <td>982.0</td>\n",
       "      <td>1183.0</td>\n",
       "      <td>340.0</td>\n",
       "    </tr>\n",
       "    <tr>\n",
       "      <th>4</th>\n",
       "      <td>Control Campaign</td>\n",
       "      <td>5.08.2019</td>\n",
       "      <td>1835</td>\n",
       "      <td>NaN</td>\n",
       "      <td>NaN</td>\n",
       "      <td>NaN</td>\n",
       "      <td>NaN</td>\n",
       "      <td>NaN</td>\n",
       "      <td>NaN</td>\n",
       "      <td>NaN</td>\n",
       "    </tr>\n",
       "  </tbody>\n",
       "</table>\n",
       "</div>"
      ],
      "text/plain": [
       "      Campaign Name       Date  Spend [USD]  # of Impressions     Reach  \\\n",
       "0  Control Campaign  1.08.2019         2280           82702.0   56930.0   \n",
       "1  Control Campaign  2.08.2019         1757          121040.0  102513.0   \n",
       "2  Control Campaign  3.08.2019         2343          131711.0  110862.0   \n",
       "3  Control Campaign  4.08.2019         1940           72878.0   61235.0   \n",
       "4  Control Campaign  5.08.2019         1835               NaN       NaN   \n",
       "\n",
       "   # of Website Clicks  # of Searches  # of View Content  # of Add to Cart  \\\n",
       "0               7016.0         2290.0             2159.0            1819.0   \n",
       "1               8110.0         2033.0             1841.0            1219.0   \n",
       "2               6508.0         1737.0             1549.0            1134.0   \n",
       "3               3065.0         1042.0              982.0            1183.0   \n",
       "4                  NaN            NaN                NaN               NaN   \n",
       "\n",
       "   # of Purchase  \n",
       "0          618.0  \n",
       "1          511.0  \n",
       "2          372.0  \n",
       "3          340.0  \n",
       "4            NaN  "
      ]
     },
     "execution_count": 146,
     "metadata": {},
     "output_type": "execute_result"
    }
   ],
   "source": [
    "df_control.head()"
   ]
  },
  {
   "cell_type": "code",
   "execution_count": 147,
   "id": "03c06306-ba1e-43ce-85bc-b04833e3897e",
   "metadata": {},
   "outputs": [
    {
     "data": {
      "text/html": [
       "<div>\n",
       "<style scoped>\n",
       "    .dataframe tbody tr th:only-of-type {\n",
       "        vertical-align: middle;\n",
       "    }\n",
       "\n",
       "    .dataframe tbody tr th {\n",
       "        vertical-align: top;\n",
       "    }\n",
       "\n",
       "    .dataframe thead th {\n",
       "        text-align: right;\n",
       "    }\n",
       "</style>\n",
       "<table border=\"1\" class=\"dataframe\">\n",
       "  <thead>\n",
       "    <tr style=\"text-align: right;\">\n",
       "      <th></th>\n",
       "      <th>Campaign Name</th>\n",
       "      <th>Date</th>\n",
       "      <th>Spend [USD]</th>\n",
       "      <th># of Impressions</th>\n",
       "      <th>Reach</th>\n",
       "      <th># of Website Clicks</th>\n",
       "      <th># of Searches</th>\n",
       "      <th># of View Content</th>\n",
       "      <th># of Add to Cart</th>\n",
       "      <th># of Purchase</th>\n",
       "    </tr>\n",
       "  </thead>\n",
       "  <tbody>\n",
       "    <tr>\n",
       "      <th>0</th>\n",
       "      <td>Test Campaign</td>\n",
       "      <td>1.08.2019</td>\n",
       "      <td>3008</td>\n",
       "      <td>39550</td>\n",
       "      <td>35820</td>\n",
       "      <td>3038</td>\n",
       "      <td>1946</td>\n",
       "      <td>1069</td>\n",
       "      <td>894</td>\n",
       "      <td>255</td>\n",
       "    </tr>\n",
       "    <tr>\n",
       "      <th>1</th>\n",
       "      <td>Test Campaign</td>\n",
       "      <td>2.08.2019</td>\n",
       "      <td>2542</td>\n",
       "      <td>100719</td>\n",
       "      <td>91236</td>\n",
       "      <td>4657</td>\n",
       "      <td>2359</td>\n",
       "      <td>1548</td>\n",
       "      <td>879</td>\n",
       "      <td>677</td>\n",
       "    </tr>\n",
       "    <tr>\n",
       "      <th>2</th>\n",
       "      <td>Test Campaign</td>\n",
       "      <td>3.08.2019</td>\n",
       "      <td>2365</td>\n",
       "      <td>70263</td>\n",
       "      <td>45198</td>\n",
       "      <td>7885</td>\n",
       "      <td>2572</td>\n",
       "      <td>2367</td>\n",
       "      <td>1268</td>\n",
       "      <td>578</td>\n",
       "    </tr>\n",
       "    <tr>\n",
       "      <th>3</th>\n",
       "      <td>Test Campaign</td>\n",
       "      <td>4.08.2019</td>\n",
       "      <td>2710</td>\n",
       "      <td>78451</td>\n",
       "      <td>25937</td>\n",
       "      <td>4216</td>\n",
       "      <td>2216</td>\n",
       "      <td>1437</td>\n",
       "      <td>566</td>\n",
       "      <td>340</td>\n",
       "    </tr>\n",
       "    <tr>\n",
       "      <th>4</th>\n",
       "      <td>Test Campaign</td>\n",
       "      <td>5.08.2019</td>\n",
       "      <td>2297</td>\n",
       "      <td>114295</td>\n",
       "      <td>95138</td>\n",
       "      <td>5863</td>\n",
       "      <td>2106</td>\n",
       "      <td>858</td>\n",
       "      <td>956</td>\n",
       "      <td>768</td>\n",
       "    </tr>\n",
       "  </tbody>\n",
       "</table>\n",
       "</div>"
      ],
      "text/plain": [
       "   Campaign Name       Date  Spend [USD]  # of Impressions  Reach  \\\n",
       "0  Test Campaign  1.08.2019         3008             39550  35820   \n",
       "1  Test Campaign  2.08.2019         2542            100719  91236   \n",
       "2  Test Campaign  3.08.2019         2365             70263  45198   \n",
       "3  Test Campaign  4.08.2019         2710             78451  25937   \n",
       "4  Test Campaign  5.08.2019         2297            114295  95138   \n",
       "\n",
       "   # of Website Clicks  # of Searches  # of View Content  # of Add to Cart  \\\n",
       "0                 3038           1946               1069               894   \n",
       "1                 4657           2359               1548               879   \n",
       "2                 7885           2572               2367              1268   \n",
       "3                 4216           2216               1437               566   \n",
       "4                 5863           2106                858               956   \n",
       "\n",
       "   # of Purchase  \n",
       "0            255  \n",
       "1            677  \n",
       "2            578  \n",
       "3            340  \n",
       "4            768  "
      ]
     },
     "execution_count": 147,
     "metadata": {},
     "output_type": "execute_result"
    }
   ],
   "source": [
    "df_test.head()"
   ]
  },
  {
   "cell_type": "markdown",
   "id": "28982d04-c1db-4ed2-b405-d023a467928c",
   "metadata": {},
   "source": [
    "It seems like both of the dfs configured with the same columns. They both have a column for campaign name so lets unite them"
   ]
  },
  {
   "cell_type": "code",
   "execution_count": 148,
   "id": "db81741e-58d8-4c5c-9e43-2abfa23b9a64",
   "metadata": {},
   "outputs": [],
   "source": [
    "df = pd.concat([df_control, df_test], ignore_index=True)"
   ]
  },
  {
   "cell_type": "markdown",
   "id": "4d7b7689-ae6a-46cf-91b4-17c030a6ca78",
   "metadata": {},
   "source": [
    "Let's sample some rows to see if everything seems normal"
   ]
  },
  {
   "cell_type": "markdown",
   "id": "f3758887-8b68-4ce6-8f34-e029416d5678",
   "metadata": {},
   "source": [
    "#### Sampling rows"
   ]
  },
  {
   "cell_type": "code",
   "execution_count": 149,
   "id": "331e7b19-8b07-407e-8005-423b0c465d00",
   "metadata": {},
   "outputs": [
    {
     "data": {
      "text/html": [
       "<div>\n",
       "<style scoped>\n",
       "    .dataframe tbody tr th:only-of-type {\n",
       "        vertical-align: middle;\n",
       "    }\n",
       "\n",
       "    .dataframe tbody tr th {\n",
       "        vertical-align: top;\n",
       "    }\n",
       "\n",
       "    .dataframe thead th {\n",
       "        text-align: right;\n",
       "    }\n",
       "</style>\n",
       "<table border=\"1\" class=\"dataframe\">\n",
       "  <thead>\n",
       "    <tr style=\"text-align: right;\">\n",
       "      <th></th>\n",
       "      <th>Campaign Name</th>\n",
       "      <th>Date</th>\n",
       "      <th>Spend [USD]</th>\n",
       "      <th># of Impressions</th>\n",
       "      <th>Reach</th>\n",
       "      <th># of Website Clicks</th>\n",
       "      <th># of Searches</th>\n",
       "      <th># of View Content</th>\n",
       "      <th># of Add to Cart</th>\n",
       "      <th># of Purchase</th>\n",
       "    </tr>\n",
       "  </thead>\n",
       "  <tbody>\n",
       "    <tr>\n",
       "      <th>26</th>\n",
       "      <td>Control Campaign</td>\n",
       "      <td>27.08.2019</td>\n",
       "      <td>2061</td>\n",
       "      <td>104678.0</td>\n",
       "      <td>91579.0</td>\n",
       "      <td>4941.0</td>\n",
       "      <td>3549.0</td>\n",
       "      <td>3249.0</td>\n",
       "      <td>980.0</td>\n",
       "      <td>605.0</td>\n",
       "    </tr>\n",
       "    <tr>\n",
       "      <th>20</th>\n",
       "      <td>Control Campaign</td>\n",
       "      <td>21.08.2019</td>\n",
       "      <td>1803</td>\n",
       "      <td>74654.0</td>\n",
       "      <td>59873.0</td>\n",
       "      <td>5691.0</td>\n",
       "      <td>2711.0</td>\n",
       "      <td>2496.0</td>\n",
       "      <td>1460.0</td>\n",
       "      <td>800.0</td>\n",
       "    </tr>\n",
       "    <tr>\n",
       "      <th>6</th>\n",
       "      <td>Control Campaign</td>\n",
       "      <td>7.08.2019</td>\n",
       "      <td>2544</td>\n",
       "      <td>142123.0</td>\n",
       "      <td>127852.0</td>\n",
       "      <td>2640.0</td>\n",
       "      <td>1388.0</td>\n",
       "      <td>1106.0</td>\n",
       "      <td>1166.0</td>\n",
       "      <td>499.0</td>\n",
       "    </tr>\n",
       "    <tr>\n",
       "      <th>33</th>\n",
       "      <td>Test Campaign</td>\n",
       "      <td>4.08.2019</td>\n",
       "      <td>2710</td>\n",
       "      <td>78451.0</td>\n",
       "      <td>25937.0</td>\n",
       "      <td>4216.0</td>\n",
       "      <td>2216.0</td>\n",
       "      <td>1437.0</td>\n",
       "      <td>566.0</td>\n",
       "      <td>340.0</td>\n",
       "    </tr>\n",
       "    <tr>\n",
       "      <th>32</th>\n",
       "      <td>Test Campaign</td>\n",
       "      <td>3.08.2019</td>\n",
       "      <td>2365</td>\n",
       "      <td>70263.0</td>\n",
       "      <td>45198.0</td>\n",
       "      <td>7885.0</td>\n",
       "      <td>2572.0</td>\n",
       "      <td>2367.0</td>\n",
       "      <td>1268.0</td>\n",
       "      <td>578.0</td>\n",
       "    </tr>\n",
       "    <tr>\n",
       "      <th>36</th>\n",
       "      <td>Test Campaign</td>\n",
       "      <td>7.08.2019</td>\n",
       "      <td>2838</td>\n",
       "      <td>53986.0</td>\n",
       "      <td>42148.0</td>\n",
       "      <td>4221.0</td>\n",
       "      <td>2733.0</td>\n",
       "      <td>2182.0</td>\n",
       "      <td>1301.0</td>\n",
       "      <td>890.0</td>\n",
       "    </tr>\n",
       "    <tr>\n",
       "      <th>19</th>\n",
       "      <td>Control Campaign</td>\n",
       "      <td>20.08.2019</td>\n",
       "      <td>2675</td>\n",
       "      <td>113430.0</td>\n",
       "      <td>78625.0</td>\n",
       "      <td>2578.0</td>\n",
       "      <td>1001.0</td>\n",
       "      <td>848.0</td>\n",
       "      <td>1709.0</td>\n",
       "      <td>299.0</td>\n",
       "    </tr>\n",
       "    <tr>\n",
       "      <th>55</th>\n",
       "      <td>Test Campaign</td>\n",
       "      <td>26.08.2019</td>\n",
       "      <td>2311</td>\n",
       "      <td>80841.0</td>\n",
       "      <td>61589.0</td>\n",
       "      <td>3820.0</td>\n",
       "      <td>2037.0</td>\n",
       "      <td>1046.0</td>\n",
       "      <td>346.0</td>\n",
       "      <td>284.0</td>\n",
       "    </tr>\n",
       "    <tr>\n",
       "      <th>34</th>\n",
       "      <td>Test Campaign</td>\n",
       "      <td>5.08.2019</td>\n",
       "      <td>2297</td>\n",
       "      <td>114295.0</td>\n",
       "      <td>95138.0</td>\n",
       "      <td>5863.0</td>\n",
       "      <td>2106.0</td>\n",
       "      <td>858.0</td>\n",
       "      <td>956.0</td>\n",
       "      <td>768.0</td>\n",
       "    </tr>\n",
       "    <tr>\n",
       "      <th>31</th>\n",
       "      <td>Test Campaign</td>\n",
       "      <td>2.08.2019</td>\n",
       "      <td>2542</td>\n",
       "      <td>100719.0</td>\n",
       "      <td>91236.0</td>\n",
       "      <td>4657.0</td>\n",
       "      <td>2359.0</td>\n",
       "      <td>1548.0</td>\n",
       "      <td>879.0</td>\n",
       "      <td>677.0</td>\n",
       "    </tr>\n",
       "  </tbody>\n",
       "</table>\n",
       "</div>"
      ],
      "text/plain": [
       "       Campaign Name        Date  Spend [USD]  # of Impressions     Reach  \\\n",
       "26  Control Campaign  27.08.2019         2061          104678.0   91579.0   \n",
       "20  Control Campaign  21.08.2019         1803           74654.0   59873.0   \n",
       "6   Control Campaign   7.08.2019         2544          142123.0  127852.0   \n",
       "33     Test Campaign   4.08.2019         2710           78451.0   25937.0   \n",
       "32     Test Campaign   3.08.2019         2365           70263.0   45198.0   \n",
       "36     Test Campaign   7.08.2019         2838           53986.0   42148.0   \n",
       "19  Control Campaign  20.08.2019         2675          113430.0   78625.0   \n",
       "55     Test Campaign  26.08.2019         2311           80841.0   61589.0   \n",
       "34     Test Campaign   5.08.2019         2297          114295.0   95138.0   \n",
       "31     Test Campaign   2.08.2019         2542          100719.0   91236.0   \n",
       "\n",
       "    # of Website Clicks  # of Searches  # of View Content  # of Add to Cart  \\\n",
       "26               4941.0         3549.0             3249.0             980.0   \n",
       "20               5691.0         2711.0             2496.0            1460.0   \n",
       "6                2640.0         1388.0             1106.0            1166.0   \n",
       "33               4216.0         2216.0             1437.0             566.0   \n",
       "32               7885.0         2572.0             2367.0            1268.0   \n",
       "36               4221.0         2733.0             2182.0            1301.0   \n",
       "19               2578.0         1001.0              848.0            1709.0   \n",
       "55               3820.0         2037.0             1046.0             346.0   \n",
       "34               5863.0         2106.0              858.0             956.0   \n",
       "31               4657.0         2359.0             1548.0             879.0   \n",
       "\n",
       "    # of Purchase  \n",
       "26          605.0  \n",
       "20          800.0  \n",
       "6           499.0  \n",
       "33          340.0  \n",
       "32          578.0  \n",
       "36          890.0  \n",
       "19          299.0  \n",
       "55          284.0  \n",
       "34          768.0  \n",
       "31          677.0  "
      ]
     },
     "execution_count": 149,
     "metadata": {},
     "output_type": "execute_result"
    }
   ],
   "source": [
    "df.sample(10)"
   ]
  },
  {
   "cell_type": "markdown",
   "id": "5157f8f2-b647-4c80-994a-28b3576c350a",
   "metadata": {},
   "source": [
    "looks OK to me :)"
   ]
  },
  {
   "cell_type": "markdown",
   "id": "21e2deaf-0c34-47df-bd75-86af52ebb84d",
   "metadata": {},
   "source": [
    "### Understanding the Data"
   ]
  },
  {
   "cell_type": "markdown",
   "id": "67844e28-c77c-44b3-a24f-ea77f0ecd1f4",
   "metadata": {},
   "source": [
    "Basic details about the dataset"
   ]
  },
  {
   "cell_type": "markdown",
   "id": "fc0691b2-4166-4993-8ea4-d7f05609185e",
   "metadata": {},
   "source": [
    "#### Data Shape"
   ]
  },
  {
   "cell_type": "code",
   "execution_count": 150,
   "id": "4081c58b-ac94-4335-8f87-948ea8a84ea0",
   "metadata": {},
   "outputs": [
    {
     "name": "stdout",
     "output_type": "stream",
     "text": [
      "This Dataframe has 60 rows over 10 columns\n"
     ]
    }
   ],
   "source": [
    "print(f'This Dataframe has {df.shape[0]} rows over {df.shape[1]} columns')"
   ]
  },
  {
   "cell_type": "markdown",
   "id": "9adff889-6038-4afb-8f18-52167ea7045f",
   "metadata": {},
   "source": [
    "### Cleanup"
   ]
  },
  {
   "cell_type": "markdown",
   "id": "5b9b099f-bd8f-41b4-b415-172aad51d495",
   "metadata": {},
   "source": [
    "In the following section we'll validate date types, deal with empty and duplicated rows"
   ]
  },
  {
   "cell_type": "markdown",
   "id": "5138cca3-9378-4da2-984d-a949431a6dc0",
   "metadata": {},
   "source": [
    "#### Validating Datatypes"
   ]
  },
  {
   "cell_type": "code",
   "execution_count": 151,
   "id": "6331d4cc-ac19-4a6b-bb02-ba03cae6e7ed",
   "metadata": {},
   "outputs": [
    {
     "name": "stdout",
     "output_type": "stream",
     "text": [
      "<class 'pandas.core.frame.DataFrame'>\n",
      "RangeIndex: 60 entries, 0 to 59\n",
      "Data columns (total 10 columns):\n",
      " #   Column               Non-Null Count  Dtype  \n",
      "---  ------               --------------  -----  \n",
      " 0   Campaign Name        60 non-null     object \n",
      " 1   Date                 60 non-null     object \n",
      " 2   Spend [USD]          60 non-null     int64  \n",
      " 3   # of Impressions     59 non-null     float64\n",
      " 4   Reach                59 non-null     float64\n",
      " 5   # of Website Clicks  59 non-null     float64\n",
      " 6   # of Searches        59 non-null     float64\n",
      " 7   # of View Content    59 non-null     float64\n",
      " 8   # of Add to Cart     59 non-null     float64\n",
      " 9   # of Purchase        59 non-null     float64\n",
      "dtypes: float64(7), int64(1), object(2)\n",
      "memory usage: 4.8+ KB\n"
     ]
    }
   ],
   "source": [
    "df.info()"
   ]
  },
  {
   "cell_type": "markdown",
   "id": "2cb5c2f7-e9fc-4cb7-86c8-424fc3b81974",
   "metadata": {},
   "source": [
    "<b>Converting 'Date' column into a valid datetime64 type</b>"
   ]
  },
  {
   "cell_type": "code",
   "execution_count": 152,
   "id": "47d68755-3f4a-4bd9-952c-3d1086fbe56f",
   "metadata": {},
   "outputs": [],
   "source": [
    "df['Date'] = pd.to_datetime(df['Date'], dayfirst=True)"
   ]
  },
  {
   "cell_type": "code",
   "execution_count": 153,
   "id": "5fe3a220-f049-4be9-8324-e189ef6631c6",
   "metadata": {},
   "outputs": [
    {
     "data": {
      "text/html": [
       "<div>\n",
       "<style scoped>\n",
       "    .dataframe tbody tr th:only-of-type {\n",
       "        vertical-align: middle;\n",
       "    }\n",
       "\n",
       "    .dataframe tbody tr th {\n",
       "        vertical-align: top;\n",
       "    }\n",
       "\n",
       "    .dataframe thead th {\n",
       "        text-align: right;\n",
       "    }\n",
       "</style>\n",
       "<table border=\"1\" class=\"dataframe\">\n",
       "  <thead>\n",
       "    <tr style=\"text-align: right;\">\n",
       "      <th></th>\n",
       "      <th>Date</th>\n",
       "    </tr>\n",
       "  </thead>\n",
       "  <tbody>\n",
       "    <tr>\n",
       "      <th>13</th>\n",
       "      <td>2019-08-14</td>\n",
       "    </tr>\n",
       "    <tr>\n",
       "      <th>6</th>\n",
       "      <td>2019-08-07</td>\n",
       "    </tr>\n",
       "    <tr>\n",
       "      <th>49</th>\n",
       "      <td>2019-08-20</td>\n",
       "    </tr>\n",
       "    <tr>\n",
       "      <th>24</th>\n",
       "      <td>2019-08-25</td>\n",
       "    </tr>\n",
       "    <tr>\n",
       "      <th>21</th>\n",
       "      <td>2019-08-22</td>\n",
       "    </tr>\n",
       "  </tbody>\n",
       "</table>\n",
       "</div>"
      ],
      "text/plain": [
       "         Date\n",
       "13 2019-08-14\n",
       "6  2019-08-07\n",
       "49 2019-08-20\n",
       "24 2019-08-25\n",
       "21 2019-08-22"
      ]
     },
     "execution_count": 153,
     "metadata": {},
     "output_type": "execute_result"
    }
   ],
   "source": [
    "df[['Date']].sample(5)"
   ]
  },
  {
   "cell_type": "markdown",
   "id": "809a846c-c680-446f-a095-17ae150f818c",
   "metadata": {},
   "source": [
    "<b>Observation:</b> Apparently each campaign is measured over 30 different days."
   ]
  },
  {
   "cell_type": "markdown",
   "id": "c85ae586-0721-4173-a143-01b443bad374",
   "metadata": {},
   "source": [
    "<b>Converting column names:</b> replacing space with underline for SQL analysis later on"
   ]
  },
  {
   "cell_type": "code",
   "execution_count": 154,
   "id": "d3c1f4a0-aca9-4f16-bb48-3134e04d1000",
   "metadata": {},
   "outputs": [],
   "source": [
    "df.columns = df.columns.str.replace(\" \", \"_\")"
   ]
  },
  {
   "cell_type": "code",
   "execution_count": 155,
   "id": "705169ec-060a-47bc-8728-13fb3b2937c2",
   "metadata": {},
   "outputs": [
    {
     "data": {
      "text/html": [
       "<div>\n",
       "<style scoped>\n",
       "    .dataframe tbody tr th:only-of-type {\n",
       "        vertical-align: middle;\n",
       "    }\n",
       "\n",
       "    .dataframe tbody tr th {\n",
       "        vertical-align: top;\n",
       "    }\n",
       "\n",
       "    .dataframe thead th {\n",
       "        text-align: right;\n",
       "    }\n",
       "</style>\n",
       "<table border=\"1\" class=\"dataframe\">\n",
       "  <thead>\n",
       "    <tr style=\"text-align: right;\">\n",
       "      <th></th>\n",
       "      <th>Campaign_Name</th>\n",
       "      <th>Date</th>\n",
       "      <th>Spend_[USD]</th>\n",
       "      <th>#_of_Impressions</th>\n",
       "      <th>Reach</th>\n",
       "      <th>#_of_Website_Clicks</th>\n",
       "      <th>#_of_Searches</th>\n",
       "      <th>#_of_View_Content</th>\n",
       "      <th>#_of_Add_to_Cart</th>\n",
       "      <th>#_of_Purchase</th>\n",
       "    </tr>\n",
       "  </thead>\n",
       "  <tbody>\n",
       "    <tr>\n",
       "      <th>0</th>\n",
       "      <td>Control Campaign</td>\n",
       "      <td>2019-08-01</td>\n",
       "      <td>2280</td>\n",
       "      <td>82702.0</td>\n",
       "      <td>56930.0</td>\n",
       "      <td>7016.0</td>\n",
       "      <td>2290.0</td>\n",
       "      <td>2159.0</td>\n",
       "      <td>1819.0</td>\n",
       "      <td>618.0</td>\n",
       "    </tr>\n",
       "    <tr>\n",
       "      <th>1</th>\n",
       "      <td>Control Campaign</td>\n",
       "      <td>2019-08-02</td>\n",
       "      <td>1757</td>\n",
       "      <td>121040.0</td>\n",
       "      <td>102513.0</td>\n",
       "      <td>8110.0</td>\n",
       "      <td>2033.0</td>\n",
       "      <td>1841.0</td>\n",
       "      <td>1219.0</td>\n",
       "      <td>511.0</td>\n",
       "    </tr>\n",
       "    <tr>\n",
       "      <th>2</th>\n",
       "      <td>Control Campaign</td>\n",
       "      <td>2019-08-03</td>\n",
       "      <td>2343</td>\n",
       "      <td>131711.0</td>\n",
       "      <td>110862.0</td>\n",
       "      <td>6508.0</td>\n",
       "      <td>1737.0</td>\n",
       "      <td>1549.0</td>\n",
       "      <td>1134.0</td>\n",
       "      <td>372.0</td>\n",
       "    </tr>\n",
       "    <tr>\n",
       "      <th>3</th>\n",
       "      <td>Control Campaign</td>\n",
       "      <td>2019-08-04</td>\n",
       "      <td>1940</td>\n",
       "      <td>72878.0</td>\n",
       "      <td>61235.0</td>\n",
       "      <td>3065.0</td>\n",
       "      <td>1042.0</td>\n",
       "      <td>982.0</td>\n",
       "      <td>1183.0</td>\n",
       "      <td>340.0</td>\n",
       "    </tr>\n",
       "    <tr>\n",
       "      <th>4</th>\n",
       "      <td>Control Campaign</td>\n",
       "      <td>2019-08-05</td>\n",
       "      <td>1835</td>\n",
       "      <td>NaN</td>\n",
       "      <td>NaN</td>\n",
       "      <td>NaN</td>\n",
       "      <td>NaN</td>\n",
       "      <td>NaN</td>\n",
       "      <td>NaN</td>\n",
       "      <td>NaN</td>\n",
       "    </tr>\n",
       "  </tbody>\n",
       "</table>\n",
       "</div>"
      ],
      "text/plain": [
       "      Campaign_Name       Date  Spend_[USD]  #_of_Impressions     Reach  \\\n",
       "0  Control Campaign 2019-08-01         2280           82702.0   56930.0   \n",
       "1  Control Campaign 2019-08-02         1757          121040.0  102513.0   \n",
       "2  Control Campaign 2019-08-03         2343          131711.0  110862.0   \n",
       "3  Control Campaign 2019-08-04         1940           72878.0   61235.0   \n",
       "4  Control Campaign 2019-08-05         1835               NaN       NaN   \n",
       "\n",
       "   #_of_Website_Clicks  #_of_Searches  #_of_View_Content  #_of_Add_to_Cart  \\\n",
       "0               7016.0         2290.0             2159.0            1819.0   \n",
       "1               8110.0         2033.0             1841.0            1219.0   \n",
       "2               6508.0         1737.0             1549.0            1134.0   \n",
       "3               3065.0         1042.0              982.0            1183.0   \n",
       "4                  NaN            NaN                NaN               NaN   \n",
       "\n",
       "   #_of_Purchase  \n",
       "0          618.0  \n",
       "1          511.0  \n",
       "2          372.0  \n",
       "3          340.0  \n",
       "4            NaN  "
      ]
     },
     "execution_count": 155,
     "metadata": {},
     "output_type": "execute_result"
    }
   ],
   "source": [
    "df.head()"
   ]
  },
  {
   "cell_type": "markdown",
   "id": "667bfdc3-2909-4f66-bc12-c35e263b88ba",
   "metadata": {},
   "source": [
    "Renaming the columns to more readable names"
   ]
  },
  {
   "cell_type": "code",
   "execution_count": 156,
   "id": "83a03487-84e3-4440-8f5e-2bc3907df6eb",
   "metadata": {},
   "outputs": [],
   "source": [
    "df = df.rename(columns={\n",
    "    'Campaign_Name': 'Campaign',\n",
    "    'Spend_[USD]': 'Spend_USD',\n",
    "    '#_of_Impressions': 'Impressions',\n",
    "    '#_of_Website_Clicks': 'Website_Clicks',\n",
    "    '#_of_Searches': 'Searches',\n",
    "    '#_of_View_Content': 'View_Content',\n",
    "    '#_of_Add_to_Cart': 'Add_to_Cart',\n",
    "    '#_of_Purchase': 'Purchases'\n",
    "})"
   ]
  },
  {
   "cell_type": "code",
   "execution_count": 157,
   "id": "ffed9f91-a298-418d-aa18-1dac15b4b378",
   "metadata": {},
   "outputs": [
    {
     "data": {
      "text/html": [
       "<div>\n",
       "<style scoped>\n",
       "    .dataframe tbody tr th:only-of-type {\n",
       "        vertical-align: middle;\n",
       "    }\n",
       "\n",
       "    .dataframe tbody tr th {\n",
       "        vertical-align: top;\n",
       "    }\n",
       "\n",
       "    .dataframe thead th {\n",
       "        text-align: right;\n",
       "    }\n",
       "</style>\n",
       "<table border=\"1\" class=\"dataframe\">\n",
       "  <thead>\n",
       "    <tr style=\"text-align: right;\">\n",
       "      <th></th>\n",
       "      <th>Campaign</th>\n",
       "      <th>Date</th>\n",
       "      <th>Spend_USD</th>\n",
       "      <th>Impressions</th>\n",
       "      <th>Reach</th>\n",
       "      <th>Website_Clicks</th>\n",
       "      <th>Searches</th>\n",
       "      <th>View_Content</th>\n",
       "      <th>Add_to_Cart</th>\n",
       "      <th>Purchases</th>\n",
       "    </tr>\n",
       "  </thead>\n",
       "  <tbody>\n",
       "    <tr>\n",
       "      <th>0</th>\n",
       "      <td>Control Campaign</td>\n",
       "      <td>2019-08-01</td>\n",
       "      <td>2280</td>\n",
       "      <td>82702.0</td>\n",
       "      <td>56930.0</td>\n",
       "      <td>7016.0</td>\n",
       "      <td>2290.0</td>\n",
       "      <td>2159.0</td>\n",
       "      <td>1819.0</td>\n",
       "      <td>618.0</td>\n",
       "    </tr>\n",
       "    <tr>\n",
       "      <th>1</th>\n",
       "      <td>Control Campaign</td>\n",
       "      <td>2019-08-02</td>\n",
       "      <td>1757</td>\n",
       "      <td>121040.0</td>\n",
       "      <td>102513.0</td>\n",
       "      <td>8110.0</td>\n",
       "      <td>2033.0</td>\n",
       "      <td>1841.0</td>\n",
       "      <td>1219.0</td>\n",
       "      <td>511.0</td>\n",
       "    </tr>\n",
       "    <tr>\n",
       "      <th>2</th>\n",
       "      <td>Control Campaign</td>\n",
       "      <td>2019-08-03</td>\n",
       "      <td>2343</td>\n",
       "      <td>131711.0</td>\n",
       "      <td>110862.0</td>\n",
       "      <td>6508.0</td>\n",
       "      <td>1737.0</td>\n",
       "      <td>1549.0</td>\n",
       "      <td>1134.0</td>\n",
       "      <td>372.0</td>\n",
       "    </tr>\n",
       "    <tr>\n",
       "      <th>3</th>\n",
       "      <td>Control Campaign</td>\n",
       "      <td>2019-08-04</td>\n",
       "      <td>1940</td>\n",
       "      <td>72878.0</td>\n",
       "      <td>61235.0</td>\n",
       "      <td>3065.0</td>\n",
       "      <td>1042.0</td>\n",
       "      <td>982.0</td>\n",
       "      <td>1183.0</td>\n",
       "      <td>340.0</td>\n",
       "    </tr>\n",
       "    <tr>\n",
       "      <th>4</th>\n",
       "      <td>Control Campaign</td>\n",
       "      <td>2019-08-05</td>\n",
       "      <td>1835</td>\n",
       "      <td>NaN</td>\n",
       "      <td>NaN</td>\n",
       "      <td>NaN</td>\n",
       "      <td>NaN</td>\n",
       "      <td>NaN</td>\n",
       "      <td>NaN</td>\n",
       "      <td>NaN</td>\n",
       "    </tr>\n",
       "  </tbody>\n",
       "</table>\n",
       "</div>"
      ],
      "text/plain": [
       "           Campaign       Date  Spend_USD  Impressions     Reach  \\\n",
       "0  Control Campaign 2019-08-01       2280      82702.0   56930.0   \n",
       "1  Control Campaign 2019-08-02       1757     121040.0  102513.0   \n",
       "2  Control Campaign 2019-08-03       2343     131711.0  110862.0   \n",
       "3  Control Campaign 2019-08-04       1940      72878.0   61235.0   \n",
       "4  Control Campaign 2019-08-05       1835          NaN       NaN   \n",
       "\n",
       "   Website_Clicks  Searches  View_Content  Add_to_Cart  Purchases  \n",
       "0          7016.0    2290.0        2159.0       1819.0      618.0  \n",
       "1          8110.0    2033.0        1841.0       1219.0      511.0  \n",
       "2          6508.0    1737.0        1549.0       1134.0      372.0  \n",
       "3          3065.0    1042.0         982.0       1183.0      340.0  \n",
       "4             NaN       NaN           NaN          NaN        NaN  "
      ]
     },
     "execution_count": 157,
     "metadata": {},
     "output_type": "execute_result"
    }
   ],
   "source": [
    "df.head()"
   ]
  },
  {
   "cell_type": "markdown",
   "id": "8bffb120-a75e-474e-b68f-415e1c76506a",
   "metadata": {},
   "source": [
    "#### Null Values"
   ]
  },
  {
   "cell_type": "code",
   "execution_count": 158,
   "id": "fad24198-b4a3-467c-b8e6-13248e6594b5",
   "metadata": {},
   "outputs": [
    {
     "data": {
      "text/plain": [
       "Campaign          0\n",
       "Date              0\n",
       "Spend_USD         0\n",
       "Impressions       1\n",
       "Reach             1\n",
       "Website_Clicks    1\n",
       "Searches          1\n",
       "View_Content      1\n",
       "Add_to_Cart       1\n",
       "Purchases         1\n",
       "dtype: int64"
      ]
     },
     "execution_count": 158,
     "metadata": {},
     "output_type": "execute_result"
    }
   ],
   "source": [
    "df.isnull().sum()"
   ]
  },
  {
   "cell_type": "markdown",
   "id": "31fb3f02-6d93-4d81-9e62-c052d6456655",
   "metadata": {},
   "source": [
    "We can see that the majority of the columns contain 1 null value. Let's check if the null values refer to a single row"
   ]
  },
  {
   "cell_type": "code",
   "execution_count": 159,
   "id": "a1b1b3ce-ab27-491d-8354-9cd1655ede66",
   "metadata": {},
   "outputs": [],
   "source": [
    "df_invalid_rows = df[df['Reach'].isnull()]"
   ]
  },
  {
   "cell_type": "code",
   "execution_count": 160,
   "id": "f6f00540-8301-4744-96d1-766bceac6b17",
   "metadata": {},
   "outputs": [
    {
     "data": {
      "text/html": [
       "<div>\n",
       "<style scoped>\n",
       "    .dataframe tbody tr th:only-of-type {\n",
       "        vertical-align: middle;\n",
       "    }\n",
       "\n",
       "    .dataframe tbody tr th {\n",
       "        vertical-align: top;\n",
       "    }\n",
       "\n",
       "    .dataframe thead th {\n",
       "        text-align: right;\n",
       "    }\n",
       "</style>\n",
       "<table border=\"1\" class=\"dataframe\">\n",
       "  <thead>\n",
       "    <tr style=\"text-align: right;\">\n",
       "      <th></th>\n",
       "      <th>Campaign</th>\n",
       "      <th>Date</th>\n",
       "      <th>Spend_USD</th>\n",
       "      <th>Impressions</th>\n",
       "      <th>Reach</th>\n",
       "      <th>Website_Clicks</th>\n",
       "      <th>Searches</th>\n",
       "      <th>View_Content</th>\n",
       "      <th>Add_to_Cart</th>\n",
       "      <th>Purchases</th>\n",
       "    </tr>\n",
       "  </thead>\n",
       "  <tbody>\n",
       "    <tr>\n",
       "      <th>4</th>\n",
       "      <td>Control Campaign</td>\n",
       "      <td>2019-08-05</td>\n",
       "      <td>1835</td>\n",
       "      <td>NaN</td>\n",
       "      <td>NaN</td>\n",
       "      <td>NaN</td>\n",
       "      <td>NaN</td>\n",
       "      <td>NaN</td>\n",
       "      <td>NaN</td>\n",
       "      <td>NaN</td>\n",
       "    </tr>\n",
       "  </tbody>\n",
       "</table>\n",
       "</div>"
      ],
      "text/plain": [
       "           Campaign       Date  Spend_USD  Impressions  Reach  Website_Clicks  \\\n",
       "4  Control Campaign 2019-08-05       1835          NaN    NaN             NaN   \n",
       "\n",
       "   Searches  View_Content  Add_to_Cart  Purchases  \n",
       "4       NaN           NaN          NaN        NaN  "
      ]
     },
     "execution_count": 160,
     "metadata": {},
     "output_type": "execute_result"
    }
   ],
   "source": [
    "df_invalid_rows.head()"
   ]
  },
  {
   "cell_type": "markdown",
   "id": "cbcb98d4-17d1-4f16-b556-8dd35680b28e",
   "metadata": {},
   "source": [
    "As expected, the row contains all the null value that we have seen before.\n",
    "\n",
    "This is a small fraction of the data (1/60 = 1.7%), so it has almost no impact on the statistical analysis.\n",
    "\n",
    "Missing data is critical for KPI and A/B Testing, and any attempt to fill it in synthetically (by mean or median) will introduce bias into the analysis.\n",
    "\n",
    "<b>Deleting the row with the null values</b>"
   ]
  },
  {
   "cell_type": "code",
   "execution_count": 161,
   "id": "291b80d8-3eca-411d-9e19-ecb0166e089d",
   "metadata": {},
   "outputs": [],
   "source": [
    "df = df.dropna()"
   ]
  },
  {
   "cell_type": "markdown",
   "id": "8763255f-e119-4666-accc-a0e40e838e3e",
   "metadata": {},
   "source": [
    "Checking again if null values exist"
   ]
  },
  {
   "cell_type": "code",
   "execution_count": 162,
   "id": "89dfdb18-37cb-43c9-87de-6c64196e7167",
   "metadata": {},
   "outputs": [
    {
     "data": {
      "text/plain": [
       "Campaign          0\n",
       "Date              0\n",
       "Spend_USD         0\n",
       "Impressions       0\n",
       "Reach             0\n",
       "Website_Clicks    0\n",
       "Searches          0\n",
       "View_Content      0\n",
       "Add_to_Cart       0\n",
       "Purchases         0\n",
       "dtype: int64"
      ]
     },
     "execution_count": 162,
     "metadata": {},
     "output_type": "execute_result"
    }
   ],
   "source": [
    "df.isnull().sum()"
   ]
  },
  {
   "cell_type": "markdown",
   "id": "3769561a-0a2c-4ef2-a28e-c7e58065e40d",
   "metadata": {},
   "source": [
    "We're good to go"
   ]
  },
  {
   "cell_type": "markdown",
   "id": "d68ccc37-2f10-4dc6-abc4-57369112e334",
   "metadata": {},
   "source": [
    "#### Duplicate Rows"
   ]
  },
  {
   "cell_type": "code",
   "execution_count": 163,
   "id": "da09cedc-8a0e-4def-8480-ece982ba97e4",
   "metadata": {},
   "outputs": [
    {
     "data": {
      "text/plain": [
       "Campaign           2\n",
       "Date              30\n",
       "Spend_USD         59\n",
       "Impressions       59\n",
       "Reach             59\n",
       "Website_Clicks    59\n",
       "Searches          58\n",
       "View_Content      56\n",
       "Add_to_Cart       59\n",
       "Purchases         55\n",
       "dtype: int64"
      ]
     },
     "execution_count": 163,
     "metadata": {},
     "output_type": "execute_result"
    }
   ],
   "source": [
    "df.nunique()"
   ]
  },
  {
   "cell_type": "code",
   "execution_count": 164,
   "id": "3691ce9f-1257-482a-b003-73587779982a",
   "metadata": {},
   "outputs": [
    {
     "data": {
      "text/plain": [
       "0"
      ]
     },
     "execution_count": 164,
     "metadata": {},
     "output_type": "execute_result"
    }
   ],
   "source": [
    "df.duplicated().sum()"
   ]
  },
  {
   "cell_type": "markdown",
   "id": "13437990-3aa0-4f75-8739-090961eed6fe",
   "metadata": {},
   "source": [
    "No exact duplicate rows were found in the dataset "
   ]
  },
  {
   "cell_type": "markdown",
   "id": "76440084-6453-4e35-8be3-942eae1ca1df",
   "metadata": {},
   "source": [
    "## Statistical Analysis: Independent Samples t-Test"
   ]
  },
  {
   "cell_type": "markdown",
   "id": "7a88c386-9047-48d5-b87e-21f59f32936d",
   "metadata": {},
   "source": [
    "In this part of the project, we aim to statistically evaluate whether there is a significant difference between the control group and the test group in terms of a selected performance indicator (KPI).\n",
    "\n",
    "While the dataset does not specify a single target metric or KPI, I have chosen to focus on the <b>number of purchases (Purchases)</b> as the main outcome variable of interest. This KPI represents direct conversions and is commonly used to assess the effectiveness of marketing campaigns.\n",
    "\n",
    "To perform this analysis, we will use the independent samples t-test (also known as a two-sample t-test). This test is appropriate when comparing the means of two independent groups (control vs. test) on a continuous numerical variable. I selected a significance level <b>(α) of 0.05</b> to limit the probability of a Type I error to 5%.\n",
    "\n",
    "<b>Null Hypothesis (H₀):</b> The mean number of purchases in the Control Campaign equals the mean number of purchases in the Test Campaign\n",
    "\n",
    "<b>Alternative Hypothesis (H₁):</b> The mean number of purchases in the Control Campaign differs from the mean number of purchases in the Test Campaign."
   ]
  },
  {
   "cell_type": "markdown",
   "id": "d4dfe081-e3e9-45b4-b296-993b2597413c",
   "metadata": {},
   "source": [
    "Checking the number of observations from each campaign"
   ]
  },
  {
   "cell_type": "code",
   "execution_count": 165,
   "id": "b72ef3b3-d827-41a3-b5a8-257ab7f94f86",
   "metadata": {},
   "outputs": [
    {
     "data": {
      "text/plain": [
       "Campaign\n",
       "Test Campaign       30\n",
       "Control Campaign    29\n",
       "Name: count, dtype: int64"
      ]
     },
     "execution_count": 165,
     "metadata": {},
     "output_type": "execute_result"
    }
   ],
   "source": [
    "df['Campaign'].value_counts()"
   ]
  },
  {
   "cell_type": "markdown",
   "id": "91e3900b-f0c9-46ac-b63a-7f5c1267fadf",
   "metadata": {},
   "source": [
    "The dataset has almost 30 samples for each campaign"
   ]
  },
  {
   "cell_type": "markdown",
   "id": "b8ed316e-f111-49a9-8013-d42686f2b6a8",
   "metadata": {},
   "source": [
    "Seperating the dataset to 2 groups, a group for every campaign"
   ]
  },
  {
   "cell_type": "code",
   "execution_count": 166,
   "id": "050ea30a-7cab-4589-9f0a-cf8c85d31bc4",
   "metadata": {},
   "outputs": [],
   "source": [
    "df_control = df[df['Campaign'] == 'Control Campaign']['Purchases']\n",
    "df_test = df[df['Campaign'] == 'Test Campaign']['Purchases']"
   ]
  },
  {
   "cell_type": "code",
   "execution_count": 167,
   "id": "0ea7a7b8-693c-40ce-9a9a-df4fd2853a21",
   "metadata": {},
   "outputs": [
    {
     "data": {
      "text/plain": [
       "0    618.0\n",
       "1    511.0\n",
       "2    372.0\n",
       "3    340.0\n",
       "5    764.0\n",
       "Name: Purchases, dtype: float64"
      ]
     },
     "execution_count": 167,
     "metadata": {},
     "output_type": "execute_result"
    }
   ],
   "source": [
    "df_control.head()"
   ]
  },
  {
   "cell_type": "markdown",
   "id": "0d6357bd-5a6b-4892-ab9b-f53802c73b89",
   "metadata": {},
   "source": [
    "Performing the T test"
   ]
  },
  {
   "cell_type": "code",
   "execution_count": 168,
   "id": "9be902fa-7707-4808-87c7-08e83a7370ac",
   "metadata": {},
   "outputs": [
    {
     "name": "stdout",
     "output_type": "stream",
     "text": [
      "T-statistic: 0.030212884995111548\n",
      "P-value: 0.9760037958073526\n"
     ]
    }
   ],
   "source": [
    "t_stat, p_value = stats.ttest_ind(df_control, df_test, equal_var=False)\n",
    "print(f\"T-statistic: {t_stat}\")\n",
    "print(f\"P-value: {p_value}\")"
   ]
  },
  {
   "cell_type": "markdown",
   "id": "8ce4054b-e885-4d70-8c1f-fef5791b36e9",
   "metadata": {},
   "source": [
    "Since the p‑value (0.9760) is much greater than our α = 0.05, <b>we fail to reject the null hypothesis</b>. There is no statistically significant difference in mean Purchases between the Control Campaign and the Test Campaign at the 5% significance level."
   ]
  },
  {
   "cell_type": "markdown",
   "id": "3a870e32-f661-4860-b569-38ee5e1e7ce1",
   "metadata": {},
   "source": [
    "Converting the df to csv file for further analysis using SQL"
   ]
  },
  {
   "cell_type": "code",
   "execution_count": 171,
   "id": "c865e3ca-9058-41e2-b776-516cb814bf0d",
   "metadata": {},
   "outputs": [],
   "source": [
    "df = pd.read_csv('AB_data_for_Analysis.csv')"
   ]
  }
 ],
 "metadata": {
  "kernelspec": {
   "display_name": "Python 3 (ipykernel)",
   "language": "python",
   "name": "python3"
  },
  "language_info": {
   "codemirror_mode": {
    "name": "ipython",
    "version": 3
   },
   "file_extension": ".py",
   "mimetype": "text/x-python",
   "name": "python",
   "nbconvert_exporter": "python",
   "pygments_lexer": "ipython3",
   "version": "3.12.0"
  }
 },
 "nbformat": 4,
 "nbformat_minor": 5
}
