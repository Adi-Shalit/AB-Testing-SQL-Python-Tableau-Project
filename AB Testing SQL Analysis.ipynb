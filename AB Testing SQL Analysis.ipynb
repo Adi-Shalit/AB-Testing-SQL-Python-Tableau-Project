{
 "cells": [
  {
   "cell_type": "markdown",
   "id": "fb61dbb3-1137-4fb8-98ee-91a937d0cd27",
   "metadata": {},
   "source": [
    "# SQL Analysis on A/B Testing Campaigns"
   ]
  },
  {
   "cell_type": "markdown",
   "id": "ee42f95a-52e1-4482-8133-81f88d620702",
   "metadata": {},
   "source": [
    "## Preparation"
   ]
  },
  {
   "cell_type": "markdown",
   "id": "5b719129-4a87-43ce-80e2-389a79926a95",
   "metadata": {},
   "source": [
    "### Loading the Libraries and intalling packeges"
   ]
  },
  {
   "cell_type": "markdown",
   "id": "133ddba7-abc5-42b0-850b-604c1af76e54",
   "metadata": {},
   "source": [
    " Installing pandasql"
   ]
  },
  {
   "cell_type": "code",
   "execution_count": 27,
   "id": "4e1824de-601a-468e-b76c-4eefd1de138c",
   "metadata": {},
   "outputs": [],
   "source": [
    "#!pip install pandasql"
   ]
  },
  {
   "cell_type": "markdown",
   "id": "01b6d9a9-bd3e-4ee2-add4-0ae546ac2df8",
   "metadata": {},
   "source": [
    "Importing libraries"
   ]
  },
  {
   "cell_type": "code",
   "execution_count": 28,
   "id": "15ff34f4-91be-4ce4-b782-6c8889f6f308",
   "metadata": {},
   "outputs": [],
   "source": [
    "import pandas as pd\n",
    "from pandasql import sqldf"
   ]
  },
  {
   "cell_type": "markdown",
   "id": "1e36edee-0629-467b-a40a-d5bfbdf6afa2",
   "metadata": {},
   "source": [
    "helper to run SQL against pandas DataFrames"
   ]
  },
  {
   "cell_type": "code",
   "execution_count": 29,
   "id": "828bccdd-a9a7-4f78-9a5e-677b434dd326",
   "metadata": {},
   "outputs": [],
   "source": [
    "pysqldf = lambda q: sqldf(q, globals())"
   ]
  },
  {
   "cell_type": "markdown",
   "id": "650e4bd1-321b-483b-94b2-815a6affc987",
   "metadata": {},
   "source": [
    "Loading the CSV directly from GitHub"
   ]
  },
  {
   "cell_type": "code",
   "execution_count": 30,
   "id": "18912363-abc8-4307-8c21-264e95aeac21",
   "metadata": {},
   "outputs": [],
   "source": [
    "url = 'https://raw.githubusercontent.com/Adi-Shalit/AB-Testing-SQL-Python-Tableau-Project/main/AB_data_for_Analysis.csv'\n",
    "campaign_data = pd.read_csv(url)"
   ]
  },
  {
   "cell_type": "markdown",
   "id": "bae60df9-ab29-4e97-9bbf-f4831be6e79b",
   "metadata": {},
   "source": [
    "### Checking df"
   ]
  },
  {
   "cell_type": "code",
   "execution_count": 31,
   "id": "0a5fa4b3-e943-4e7d-a2cf-89fa7709249c",
   "metadata": {},
   "outputs": [
    {
     "data": {
      "text/html": [
       "<div>\n",
       "<style scoped>\n",
       "    .dataframe tbody tr th:only-of-type {\n",
       "        vertical-align: middle;\n",
       "    }\n",
       "\n",
       "    .dataframe tbody tr th {\n",
       "        vertical-align: top;\n",
       "    }\n",
       "\n",
       "    .dataframe thead th {\n",
       "        text-align: right;\n",
       "    }\n",
       "</style>\n",
       "<table border=\"1\" class=\"dataframe\">\n",
       "  <thead>\n",
       "    <tr style=\"text-align: right;\">\n",
       "      <th></th>\n",
       "      <th>Campaign</th>\n",
       "      <th>Date</th>\n",
       "      <th>Spend_USD</th>\n",
       "      <th>Impressions</th>\n",
       "      <th>Reach</th>\n",
       "      <th>Website_Clicks</th>\n",
       "      <th>Searches</th>\n",
       "      <th>View_Content</th>\n",
       "      <th>Add_to_Cart</th>\n",
       "      <th>Purchases</th>\n",
       "    </tr>\n",
       "  </thead>\n",
       "  <tbody>\n",
       "    <tr>\n",
       "      <th>0</th>\n",
       "      <td>Control Campaign</td>\n",
       "      <td>2019-08-01</td>\n",
       "      <td>2280</td>\n",
       "      <td>82702.0</td>\n",
       "      <td>56930.0</td>\n",
       "      <td>7016.0</td>\n",
       "      <td>2290.0</td>\n",
       "      <td>2159.0</td>\n",
       "      <td>1819.0</td>\n",
       "      <td>618.0</td>\n",
       "    </tr>\n",
       "    <tr>\n",
       "      <th>1</th>\n",
       "      <td>Control Campaign</td>\n",
       "      <td>2019-08-02</td>\n",
       "      <td>1757</td>\n",
       "      <td>121040.0</td>\n",
       "      <td>102513.0</td>\n",
       "      <td>8110.0</td>\n",
       "      <td>2033.0</td>\n",
       "      <td>1841.0</td>\n",
       "      <td>1219.0</td>\n",
       "      <td>511.0</td>\n",
       "    </tr>\n",
       "    <tr>\n",
       "      <th>2</th>\n",
       "      <td>Control Campaign</td>\n",
       "      <td>2019-08-03</td>\n",
       "      <td>2343</td>\n",
       "      <td>131711.0</td>\n",
       "      <td>110862.0</td>\n",
       "      <td>6508.0</td>\n",
       "      <td>1737.0</td>\n",
       "      <td>1549.0</td>\n",
       "      <td>1134.0</td>\n",
       "      <td>372.0</td>\n",
       "    </tr>\n",
       "    <tr>\n",
       "      <th>3</th>\n",
       "      <td>Control Campaign</td>\n",
       "      <td>2019-08-04</td>\n",
       "      <td>1940</td>\n",
       "      <td>72878.0</td>\n",
       "      <td>61235.0</td>\n",
       "      <td>3065.0</td>\n",
       "      <td>1042.0</td>\n",
       "      <td>982.0</td>\n",
       "      <td>1183.0</td>\n",
       "      <td>340.0</td>\n",
       "    </tr>\n",
       "    <tr>\n",
       "      <th>4</th>\n",
       "      <td>Control Campaign</td>\n",
       "      <td>2019-08-06</td>\n",
       "      <td>3083</td>\n",
       "      <td>109076.0</td>\n",
       "      <td>87998.0</td>\n",
       "      <td>4028.0</td>\n",
       "      <td>1709.0</td>\n",
       "      <td>1249.0</td>\n",
       "      <td>784.0</td>\n",
       "      <td>764.0</td>\n",
       "    </tr>\n",
       "  </tbody>\n",
       "</table>\n",
       "</div>"
      ],
      "text/plain": [
       "           Campaign        Date  Spend_USD  Impressions     Reach  \\\n",
       "0  Control Campaign  2019-08-01       2280      82702.0   56930.0   \n",
       "1  Control Campaign  2019-08-02       1757     121040.0  102513.0   \n",
       "2  Control Campaign  2019-08-03       2343     131711.0  110862.0   \n",
       "3  Control Campaign  2019-08-04       1940      72878.0   61235.0   \n",
       "4  Control Campaign  2019-08-06       3083     109076.0   87998.0   \n",
       "\n",
       "   Website_Clicks  Searches  View_Content  Add_to_Cart  Purchases  \n",
       "0          7016.0    2290.0        2159.0       1819.0      618.0  \n",
       "1          8110.0    2033.0        1841.0       1219.0      511.0  \n",
       "2          6508.0    1737.0        1549.0       1134.0      372.0  \n",
       "3          3065.0    1042.0         982.0       1183.0      340.0  \n",
       "4          4028.0    1709.0        1249.0        784.0      764.0  "
      ]
     },
     "execution_count": 31,
     "metadata": {},
     "output_type": "execute_result"
    }
   ],
   "source": [
    "campaign_data.head()"
   ]
  },
  {
   "cell_type": "markdown",
   "id": "5ed79b4f-62be-4e14-adf4-d9d5cac753c8",
   "metadata": {},
   "source": [
    "## SQL Analysis"
   ]
  },
  {
   "cell_type": "markdown",
   "id": "d0f5b45b-1338-4f66-bb24-814500948c0b",
   "metadata": {},
   "source": [
    "### Campaign Performance Totals"
   ]
  },
  {
   "cell_type": "code",
   "execution_count": 32,
   "id": "db2e6f02-7e6a-4da9-a6c5-c6feb953b1e5",
   "metadata": {},
   "outputs": [
    {
     "data": {
      "text/html": [
       "<div>\n",
       "<style scoped>\n",
       "    .dataframe tbody tr th:only-of-type {\n",
       "        vertical-align: middle;\n",
       "    }\n",
       "\n",
       "    .dataframe tbody tr th {\n",
       "        vertical-align: top;\n",
       "    }\n",
       "\n",
       "    .dataframe thead th {\n",
       "        text-align: right;\n",
       "    }\n",
       "</style>\n",
       "<table border=\"1\" class=\"dataframe\">\n",
       "  <thead>\n",
       "    <tr style=\"text-align: right;\">\n",
       "      <th></th>\n",
       "      <th>Campaign</th>\n",
       "      <th>total_Purchases</th>\n",
       "      <th>total_spend</th>\n",
       "      <th>total_impressions</th>\n",
       "      <th>total_reach</th>\n",
       "      <th>total_Website_Clicks</th>\n",
       "      <th>total_Searches</th>\n",
       "      <th>total_View_Content</th>\n",
       "      <th>total_Add_to_Cart</th>\n",
       "    </tr>\n",
       "  </thead>\n",
       "  <tbody>\n",
       "    <tr>\n",
       "      <th>0</th>\n",
       "      <td>Control Campaign</td>\n",
       "      <td>15161.0</td>\n",
       "      <td>66818</td>\n",
       "      <td>3177233.0</td>\n",
       "      <td>2576503.0</td>\n",
       "      <td>154303.0</td>\n",
       "      <td>64418.0</td>\n",
       "      <td>56370.0</td>\n",
       "      <td>37700.0</td>\n",
       "    </tr>\n",
       "    <tr>\n",
       "      <th>1</th>\n",
       "      <td>Test Campaign</td>\n",
       "      <td>15637.0</td>\n",
       "      <td>76892</td>\n",
       "      <td>2237544.0</td>\n",
       "      <td>1604747.0</td>\n",
       "      <td>180970.0</td>\n",
       "      <td>72569.0</td>\n",
       "      <td>55740.0</td>\n",
       "      <td>26446.0</td>\n",
       "    </tr>\n",
       "  </tbody>\n",
       "</table>\n",
       "</div>"
      ],
      "text/plain": [
       "           Campaign  total_Purchases  total_spend  total_impressions  \\\n",
       "0  Control Campaign          15161.0        66818          3177233.0   \n",
       "1     Test Campaign          15637.0        76892          2237544.0   \n",
       "\n",
       "   total_reach  total_Website_Clicks  total_Searches  total_View_Content  \\\n",
       "0    2576503.0              154303.0         64418.0             56370.0   \n",
       "1    1604747.0              180970.0         72569.0             55740.0   \n",
       "\n",
       "   total_Add_to_Cart  \n",
       "0            37700.0  \n",
       "1            26446.0  "
      ]
     },
     "execution_count": 32,
     "metadata": {},
     "output_type": "execute_result"
    }
   ],
   "source": [
    "query = \"\"\"\n",
    "    SELECT\n",
    "      Campaign,\n",
    "      SUM(Purchases) AS total_Purchases,\n",
    "      SUM(Spend_USD) AS total_spend,\n",
    "      SUM(Impressions) AS total_impressions,\n",
    "      SUM(Reach) AS total_reach,\n",
    "      SUM(Website_Clicks) AS total_Website_Clicks,\n",
    "      SUM(Searches) AS total_Searches,\n",
    "      SUM(View_Content) AS total_View_Content,\n",
    "      SUM(Add_to_Cart) AS total_Add_to_Cart\n",
    "    FROM campaign_data\n",
    "    GROUP BY Campaign;\n",
    "\"\"\"\n",
    "result = pysqldf(query)\n",
    "result\n"
   ]
  },
  {
   "cell_type": "markdown",
   "id": "282868e3-c6b4-4b3d-b470-92657d8a5ba8",
   "metadata": {},
   "source": [
    "* The Test Campaign generated more purchases (15,637) than the Control Campaign (15,161), even though the Control had more impressions.\n",
    "\n",
    "* The Control Campaign had significantly more impressions (3.17M) and reach (2.58M) compared to the Test Campaign (2.24M impressions and 1.6M reach).\n",
    "\n",
    "* The Test Campaign drove more website clicks (180,970) than the Control Campaign (154,303), This might suggest differences in effectiveness, but a proper CTR (Click-Through Rate) calculation is needed.\n",
    "\n",
    "* The Test Campaign also generated more searches (72,569 vs. 64,418), indicating users were more likely to explore after clicking.\n",
    "\n",
    "* Both campaigns had a similar number of “View Content” actions (~56K), despite the difference in clicks and reach.\n",
    "\n",
    "* The Control Campaign had more “Add to Cart” actions (37,700 vs. 26,446), which may suggest higher purchase intent at that stage.\n",
    "\n",
    "* The Test Campaign spent more budget overall (76,892 vs. 66,818), but with similar purchase outcomes, this might imply a lower return on ad spend."
   ]
  },
  {
   "cell_type": "markdown",
   "id": "5b63db0b-d519-4d49-8b06-2defa259221f",
   "metadata": {},
   "source": [
    "### Average Reach, Website Clicks and Impressions"
   ]
  },
  {
   "cell_type": "code",
   "execution_count": 33,
   "id": "23d16b18-7a6c-4e00-a6d2-ef2f13e75687",
   "metadata": {},
   "outputs": [
    {
     "data": {
      "text/html": [
       "<div>\n",
       "<style scoped>\n",
       "    .dataframe tbody tr th:only-of-type {\n",
       "        vertical-align: middle;\n",
       "    }\n",
       "\n",
       "    .dataframe tbody tr th {\n",
       "        vertical-align: top;\n",
       "    }\n",
       "\n",
       "    .dataframe thead th {\n",
       "        text-align: right;\n",
       "    }\n",
       "</style>\n",
       "<table border=\"1\" class=\"dataframe\">\n",
       "  <thead>\n",
       "    <tr style=\"text-align: right;\">\n",
       "      <th></th>\n",
       "      <th>Campaign</th>\n",
       "      <th>avg_reach</th>\n",
       "      <th>avg_Website_Clicks</th>\n",
       "      <th>avg_impressions</th>\n",
       "    </tr>\n",
       "  </thead>\n",
       "  <tbody>\n",
       "    <tr>\n",
       "      <th>0</th>\n",
       "      <td>Control Campaign</td>\n",
       "      <td>88844.93</td>\n",
       "      <td>5320.79</td>\n",
       "      <td>109559.76</td>\n",
       "    </tr>\n",
       "    <tr>\n",
       "      <th>1</th>\n",
       "      <td>Test Campaign</td>\n",
       "      <td>53491.57</td>\n",
       "      <td>6032.33</td>\n",
       "      <td>74584.80</td>\n",
       "    </tr>\n",
       "  </tbody>\n",
       "</table>\n",
       "</div>"
      ],
      "text/plain": [
       "           Campaign  avg_reach  avg_Website_Clicks  avg_impressions\n",
       "0  Control Campaign   88844.93             5320.79        109559.76\n",
       "1     Test Campaign   53491.57             6032.33         74584.80"
      ]
     },
     "execution_count": 33,
     "metadata": {},
     "output_type": "execute_result"
    }
   ],
   "source": [
    "query = \"\"\"\n",
    "    SELECT\n",
    "      Campaign,\n",
    "      ROUND(AVG(Reach), 2) AS avg_reach,\n",
    "      ROUND(AVG(Website_Clicks), 2) AS avg_Website_Clicks,\n",
    "      ROUND(AVG(Impressions), 2) AS avg_impressions\n",
    "    FROM campaign_data\n",
    "    GROUP BY Campaign;\n",
    "\"\"\"\n",
    "result = pysqldf(query)\n",
    "result\n"
   ]
  },
  {
   "cell_type": "markdown",
   "id": "8a8c0539-02b3-4cc2-8699-ea57201a8a77",
   "metadata": {},
   "source": [
    "The Control Campaign reached a significantly larger audience on average, with higher impressions per day. However, despite its smaller reach, the Test Campaign generated more website clicks on average, suggesting better engagement per impression."
   ]
  },
  {
   "cell_type": "markdown",
   "id": "4e66b8f4-c6f8-48bc-98a6-a9e94f8459bd",
   "metadata": {},
   "source": [
    "### Cost efficiency"
   ]
  },
  {
   "cell_type": "code",
   "execution_count": 34,
   "id": "18362734-f063-4c80-a152-07e9d183fefb",
   "metadata": {},
   "outputs": [
    {
     "data": {
      "text/html": [
       "<div>\n",
       "<style scoped>\n",
       "    .dataframe tbody tr th:only-of-type {\n",
       "        vertical-align: middle;\n",
       "    }\n",
       "\n",
       "    .dataframe tbody tr th {\n",
       "        vertical-align: top;\n",
       "    }\n",
       "\n",
       "    .dataframe thead th {\n",
       "        text-align: right;\n",
       "    }\n",
       "</style>\n",
       "<table border=\"1\" class=\"dataframe\">\n",
       "  <thead>\n",
       "    <tr style=\"text-align: right;\">\n",
       "      <th></th>\n",
       "      <th>Campaign</th>\n",
       "      <th>total_spend</th>\n",
       "      <th>total_purchases</th>\n",
       "      <th>cost_per_purchase</th>\n",
       "    </tr>\n",
       "  </thead>\n",
       "  <tbody>\n",
       "    <tr>\n",
       "      <th>0</th>\n",
       "      <td>Control Campaign</td>\n",
       "      <td>66818</td>\n",
       "      <td>15161.0</td>\n",
       "      <td>4.41</td>\n",
       "    </tr>\n",
       "    <tr>\n",
       "      <th>1</th>\n",
       "      <td>Test Campaign</td>\n",
       "      <td>76892</td>\n",
       "      <td>15637.0</td>\n",
       "      <td>4.92</td>\n",
       "    </tr>\n",
       "  </tbody>\n",
       "</table>\n",
       "</div>"
      ],
      "text/plain": [
       "           Campaign  total_spend  total_purchases  cost_per_purchase\n",
       "0  Control Campaign        66818          15161.0               4.41\n",
       "1     Test Campaign        76892          15637.0               4.92"
      ]
     },
     "execution_count": 34,
     "metadata": {},
     "output_type": "execute_result"
    }
   ],
   "source": [
    "query = \"\"\"\n",
    "    SELECT\n",
    "      Campaign,\n",
    "      SUM(Spend_USD) AS total_spend,\n",
    "      SUM(Purchases) AS total_purchases,\n",
    "      ROUND(SUM(Spend_USD) / SUM(Purchases), 2) AS cost_per_purchase\n",
    "    FROM campaign_data\n",
    "    GROUP BY Campaign;\n",
    "\"\"\"\n",
    "result = pysqldf(query)\n",
    "result"
   ]
  },
  {
   "cell_type": "markdown",
   "id": "7a5d0c60-c62e-4c22-93a6-678ff068a9a6",
   "metadata": {},
   "source": [
    "Although the Test Campaign had slightly more purchases, the cost per purchase remains slightly lower for the Control Campaign (4.41 vs. 4.92), suggesting better cost efficiency even if fewer purchases are made overall."
   ]
  },
  {
   "cell_type": "markdown",
   "id": "a2b47733-ce96-4112-a667-47add074f51b",
   "metadata": {},
   "source": [
    "### Campaign Conversion rate"
   ]
  },
  {
   "cell_type": "code",
   "execution_count": 35,
   "id": "3910479d-5657-46b5-820b-aea7c90b63b8",
   "metadata": {},
   "outputs": [
    {
     "data": {
      "text/html": [
       "<div>\n",
       "<style scoped>\n",
       "    .dataframe tbody tr th:only-of-type {\n",
       "        vertical-align: middle;\n",
       "    }\n",
       "\n",
       "    .dataframe tbody tr th {\n",
       "        vertical-align: top;\n",
       "    }\n",
       "\n",
       "    .dataframe thead th {\n",
       "        text-align: right;\n",
       "    }\n",
       "</style>\n",
       "<table border=\"1\" class=\"dataframe\">\n",
       "  <thead>\n",
       "    <tr style=\"text-align: right;\">\n",
       "      <th></th>\n",
       "      <th>Campaign</th>\n",
       "      <th>total_purchases</th>\n",
       "      <th>total_website_clicks</th>\n",
       "      <th>conversion_rate</th>\n",
       "    </tr>\n",
       "  </thead>\n",
       "  <tbody>\n",
       "    <tr>\n",
       "      <th>0</th>\n",
       "      <td>Control Campaign</td>\n",
       "      <td>15161.0</td>\n",
       "      <td>154303.0</td>\n",
       "      <td>0.0983</td>\n",
       "    </tr>\n",
       "    <tr>\n",
       "      <th>1</th>\n",
       "      <td>Test Campaign</td>\n",
       "      <td>15637.0</td>\n",
       "      <td>180970.0</td>\n",
       "      <td>0.0864</td>\n",
       "    </tr>\n",
       "  </tbody>\n",
       "</table>\n",
       "</div>"
      ],
      "text/plain": [
       "           Campaign  total_purchases  total_website_clicks  conversion_rate\n",
       "0  Control Campaign          15161.0              154303.0           0.0983\n",
       "1     Test Campaign          15637.0              180970.0           0.0864"
      ]
     },
     "execution_count": 35,
     "metadata": {},
     "output_type": "execute_result"
    }
   ],
   "source": [
    "query = \"\"\"\n",
    "    SELECT\n",
    "      Campaign,\n",
    "      SUM(Purchases) AS total_purchases,\n",
    "      SUM(Website_Clicks) AS total_website_clicks,\n",
    "      ROUND(SUM(Purchases) / SUM(Website_Clicks), 4) AS conversion_rate\n",
    "    FROM campaign_data\n",
    "    GROUP BY Campaign;\n",
    "\"\"\"\n",
    "result = pysqldf(query)\n",
    "result"
   ]
  },
  {
   "cell_type": "markdown",
   "id": "dcbfe64b-43df-4a06-8d71-6f76383edf0f",
   "metadata": {},
   "source": [
    "The Control Campaign shows a slightly higher conversion rate from clicks to purchases (9.83%) than the Test Campaign (8.64%), indicating it was slightly better at turning interest into action.\n",
    "\n",
    "A conversion rate of around 8% is generally considered quite strong for most digital marketing campaigns.\n",
    "\n",
    "This suggests that a significant portion of users who clicked through to the website ended up making a purchase, indicating that the campaigns were effective at driving qualified traffic."
   ]
  },
  {
   "cell_type": "markdown",
   "id": "f938c176-79b8-4dbb-ae3f-8451647a3e06",
   "metadata": {},
   "source": [
    "### Campaign Efficiency Metrics - different rates between each step in the funnel"
   ]
  },
  {
   "cell_type": "code",
   "execution_count": 36,
   "id": "6266eb73-d6d4-449e-8f61-0d14575c984f",
   "metadata": {},
   "outputs": [
    {
     "data": {
      "text/html": [
       "<div>\n",
       "<style scoped>\n",
       "    .dataframe tbody tr th:only-of-type {\n",
       "        vertical-align: middle;\n",
       "    }\n",
       "\n",
       "    .dataframe tbody tr th {\n",
       "        vertical-align: top;\n",
       "    }\n",
       "\n",
       "    .dataframe thead th {\n",
       "        text-align: right;\n",
       "    }\n",
       "</style>\n",
       "<table border=\"1\" class=\"dataframe\">\n",
       "  <thead>\n",
       "    <tr style=\"text-align: right;\">\n",
       "      <th></th>\n",
       "      <th>Campaign</th>\n",
       "      <th>CTR</th>\n",
       "      <th>add_to_cart_rate</th>\n",
       "      <th>purchase_rate</th>\n",
       "      <th>view_content_rate</th>\n",
       "    </tr>\n",
       "  </thead>\n",
       "  <tbody>\n",
       "    <tr>\n",
       "      <th>0</th>\n",
       "      <td>Control Campaign</td>\n",
       "      <td>0.0486</td>\n",
       "      <td>0.6688</td>\n",
       "      <td>0.4021</td>\n",
       "      <td>0.3653</td>\n",
       "    </tr>\n",
       "    <tr>\n",
       "      <th>1</th>\n",
       "      <td>Test Campaign</td>\n",
       "      <td>0.0809</td>\n",
       "      <td>0.4745</td>\n",
       "      <td>0.5913</td>\n",
       "      <td>0.3080</td>\n",
       "    </tr>\n",
       "  </tbody>\n",
       "</table>\n",
       "</div>"
      ],
      "text/plain": [
       "           Campaign     CTR  add_to_cart_rate  purchase_rate  \\\n",
       "0  Control Campaign  0.0486            0.6688         0.4021   \n",
       "1     Test Campaign  0.0809            0.4745         0.5913   \n",
       "\n",
       "   view_content_rate  \n",
       "0             0.3653  \n",
       "1             0.3080  "
      ]
     },
     "execution_count": 36,
     "metadata": {},
     "output_type": "execute_result"
    }
   ],
   "source": [
    "query = \"\"\"\n",
    "    SELECT\n",
    "      Campaign,\n",
    "      ROUND(SUM(Website_Clicks) / SUM(Impressions), 4) AS CTR,\n",
    "      ROUND(SUM(Add_to_Cart) / SUM(View_Content), 4) AS add_to_cart_rate,\n",
    "      ROUND(SUM(Purchases) / SUM(Add_to_Cart), 4) AS purchase_rate,\n",
    "      ROUND(SUM(View_Content) / SUM(Website_Clicks), 4) AS view_content_rate\n",
    "    FROM campaign_data\n",
    "    GROUP BY Campaign;\n",
    "\"\"\"\n",
    "result = pysqldf(query)\n",
    "result"
   ]
  },
  {
   "cell_type": "markdown",
   "id": "9a646512-2ccd-4309-825f-7371888195ba",
   "metadata": {},
   "source": [
    "* The Test Campaign now leads in Click-Through Rate (CTR) with 0.0809 compared to 0.0486 for the Control Campaign, indicating it's more successful at driving traffic from impressions to clicks.\n",
    "\n",
    "* The Control Campaign outperforms significantly in add-to-cart rate (66.88% vs. 47.45%), suggesting that users who engage with it are more inclined to take the next step toward purchasing.\n",
    "\n",
    "* Interestingly, the Test Campaign shows a much higher purchase rate from add-to-cart (59.13% vs. 40.21%), pointing to stronger intent or more effective checkout flows among those who reach this stage.\n",
    "\n",
    "* The Control Campaign also leads in view-content rate (36.53% vs. 30.80%), implying that users clicking through are more consistently exploring product details."
   ]
  },
  {
   "cell_type": "markdown",
   "id": "98f338d5-25b6-451b-9357-098d0e270365",
   "metadata": {},
   "source": [
    "### Number of days recorded"
   ]
  },
  {
   "cell_type": "code",
   "execution_count": 37,
   "id": "511c68de-6abd-415e-aa91-8af4ef89046a",
   "metadata": {},
   "outputs": [
    {
     "data": {
      "text/html": [
       "<div>\n",
       "<style scoped>\n",
       "    .dataframe tbody tr th:only-of-type {\n",
       "        vertical-align: middle;\n",
       "    }\n",
       "\n",
       "    .dataframe tbody tr th {\n",
       "        vertical-align: top;\n",
       "    }\n",
       "\n",
       "    .dataframe thead th {\n",
       "        text-align: right;\n",
       "    }\n",
       "</style>\n",
       "<table border=\"1\" class=\"dataframe\">\n",
       "  <thead>\n",
       "    <tr style=\"text-align: right;\">\n",
       "      <th></th>\n",
       "      <th>Campaign</th>\n",
       "      <th>Year</th>\n",
       "      <th>Month</th>\n",
       "      <th>days_count</th>\n",
       "    </tr>\n",
       "  </thead>\n",
       "  <tbody>\n",
       "    <tr>\n",
       "      <th>0</th>\n",
       "      <td>Control Campaign</td>\n",
       "      <td>2019</td>\n",
       "      <td>08</td>\n",
       "      <td>29</td>\n",
       "    </tr>\n",
       "    <tr>\n",
       "      <th>1</th>\n",
       "      <td>Test Campaign</td>\n",
       "      <td>2019</td>\n",
       "      <td>08</td>\n",
       "      <td>30</td>\n",
       "    </tr>\n",
       "  </tbody>\n",
       "</table>\n",
       "</div>"
      ],
      "text/plain": [
       "           Campaign  Year Month  days_count\n",
       "0  Control Campaign  2019    08          29\n",
       "1     Test Campaign  2019    08          30"
      ]
     },
     "execution_count": 37,
     "metadata": {},
     "output_type": "execute_result"
    }
   ],
   "source": [
    "query = \"\"\"\n",
    "    SELECT\n",
    "      Campaign,\n",
    "      SUBSTR(Date, 1, 4) AS Year,\n",
    "      SUBSTR(Date, 6, 2) AS Month,\n",
    "      COUNT(*) AS days_count\n",
    "    FROM campaign_data\n",
    "    GROUP BY Campaign;\n",
    "\"\"\"\n",
    "result = pysqldf(query)\n",
    "result"
   ]
  },
  {
   "cell_type": "markdown",
   "id": "064733db-a813-45f3-bd49-a86ef06ef0f9",
   "metadata": {},
   "source": [
    "29 days recorded for the control campaign, and similarly 30 days for the Test campaign, all in August 2019."
   ]
  },
  {
   "cell_type": "markdown",
   "id": "9638a398-aab0-4333-bc60-1b9067a337bd",
   "metadata": {},
   "source": [
    "### Maximum daily impressions"
   ]
  },
  {
   "cell_type": "code",
   "execution_count": 38,
   "id": "cd859419-33b9-4933-9781-5f28f411ae3d",
   "metadata": {},
   "outputs": [
    {
     "data": {
      "text/html": [
       "<div>\n",
       "<style scoped>\n",
       "    .dataframe tbody tr th:only-of-type {\n",
       "        vertical-align: middle;\n",
       "    }\n",
       "\n",
       "    .dataframe tbody tr th {\n",
       "        vertical-align: top;\n",
       "    }\n",
       "\n",
       "    .dataframe thead th {\n",
       "        text-align: right;\n",
       "    }\n",
       "</style>\n",
       "<table border=\"1\" class=\"dataframe\">\n",
       "  <thead>\n",
       "    <tr style=\"text-align: right;\">\n",
       "      <th></th>\n",
       "      <th>Campaign</th>\n",
       "      <th>max_impressions</th>\n",
       "      <th>Date</th>\n",
       "    </tr>\n",
       "  </thead>\n",
       "  <tbody>\n",
       "    <tr>\n",
       "      <th>0</th>\n",
       "      <td>Control Campaign</td>\n",
       "      <td>145248.0</td>\n",
       "      <td>2019-08-14</td>\n",
       "    </tr>\n",
       "    <tr>\n",
       "      <th>1</th>\n",
       "      <td>Test Campaign</td>\n",
       "      <td>133771.0</td>\n",
       "      <td>2019-08-21</td>\n",
       "    </tr>\n",
       "  </tbody>\n",
       "</table>\n",
       "</div>"
      ],
      "text/plain": [
       "           Campaign  max_impressions        Date\n",
       "0  Control Campaign         145248.0  2019-08-14\n",
       "1     Test Campaign         133771.0  2019-08-21"
      ]
     },
     "execution_count": 38,
     "metadata": {},
     "output_type": "execute_result"
    }
   ],
   "source": [
    "query = \"\"\"\n",
    "    SELECT\n",
    "      Campaign,\n",
    "      MAX(Impressions) AS max_impressions,\n",
    "      Date\n",
    "    FROM campaign_data\n",
    "    GROUP BY Campaign;\n",
    "\"\"\"\n",
    "result = pysqldf(query)\n",
    "result"
   ]
  },
  {
   "cell_type": "markdown",
   "id": "3d398553-affc-449d-9d87-3df8ca1aeea4",
   "metadata": {},
   "source": [
    "### Days where Test campaign outperformed Control in conversion rate"
   ]
  },
  {
   "cell_type": "code",
   "execution_count": 39,
   "id": "4c984165-5e5f-4f4f-b6f5-ebbea79bb05c",
   "metadata": {},
   "outputs": [
    {
     "data": {
      "text/html": [
       "<div>\n",
       "<style scoped>\n",
       "    .dataframe tbody tr th:only-of-type {\n",
       "        vertical-align: middle;\n",
       "    }\n",
       "\n",
       "    .dataframe tbody tr th {\n",
       "        vertical-align: top;\n",
       "    }\n",
       "\n",
       "    .dataframe thead th {\n",
       "        text-align: right;\n",
       "    }\n",
       "</style>\n",
       "<table border=\"1\" class=\"dataframe\">\n",
       "  <thead>\n",
       "    <tr style=\"text-align: right;\">\n",
       "      <th></th>\n",
       "      <th>Date</th>\n",
       "      <th>test_rate</th>\n",
       "      <th>control_rate</th>\n",
       "      <th>rate_diff</th>\n",
       "    </tr>\n",
       "  </thead>\n",
       "  <tbody>\n",
       "    <tr>\n",
       "      <th>0</th>\n",
       "      <td>2019-08-11</td>\n",
       "      <td>0.178133</td>\n",
       "      <td>0.058375</td>\n",
       "      <td>0.1198</td>\n",
       "    </tr>\n",
       "    <tr>\n",
       "      <th>1</th>\n",
       "      <td>2019-08-25</td>\n",
       "      <td>0.181034</td>\n",
       "      <td>0.091167</td>\n",
       "      <td>0.0899</td>\n",
       "    </tr>\n",
       "    <tr>\n",
       "      <th>2</th>\n",
       "      <td>2019-08-02</td>\n",
       "      <td>0.145373</td>\n",
       "      <td>0.063009</td>\n",
       "      <td>0.0824</td>\n",
       "    </tr>\n",
       "    <tr>\n",
       "      <th>3</th>\n",
       "      <td>2019-08-29</td>\n",
       "      <td>0.088485</td>\n",
       "      <td>0.041098</td>\n",
       "      <td>0.0474</td>\n",
       "    </tr>\n",
       "    <tr>\n",
       "      <th>4</th>\n",
       "      <td>2019-08-26</td>\n",
       "      <td>0.074346</td>\n",
       "      <td>0.046182</td>\n",
       "      <td>0.0282</td>\n",
       "    </tr>\n",
       "    <tr>\n",
       "      <th>5</th>\n",
       "      <td>2019-08-07</td>\n",
       "      <td>0.210851</td>\n",
       "      <td>0.189015</td>\n",
       "      <td>0.0218</td>\n",
       "    </tr>\n",
       "    <tr>\n",
       "      <th>6</th>\n",
       "      <td>2019-08-09</td>\n",
       "      <td>0.102313</td>\n",
       "      <td>0.080833</td>\n",
       "      <td>0.0215</td>\n",
       "    </tr>\n",
       "    <tr>\n",
       "      <th>7</th>\n",
       "      <td>2019-08-03</td>\n",
       "      <td>0.073304</td>\n",
       "      <td>0.057160</td>\n",
       "      <td>0.0161</td>\n",
       "    </tr>\n",
       "    <tr>\n",
       "      <th>8</th>\n",
       "      <td>2019-08-22</td>\n",
       "      <td>0.062288</td>\n",
       "      <td>0.056554</td>\n",
       "      <td>0.0057</td>\n",
       "    </tr>\n",
       "    <tr>\n",
       "      <th>9</th>\n",
       "      <td>2019-08-15</td>\n",
       "      <td>0.079712</td>\n",
       "      <td>0.074755</td>\n",
       "      <td>0.0050</td>\n",
       "    </tr>\n",
       "    <tr>\n",
       "      <th>10</th>\n",
       "      <td>2019-08-20</td>\n",
       "      <td>0.120661</td>\n",
       "      <td>0.115981</td>\n",
       "      <td>0.0047</td>\n",
       "    </tr>\n",
       "    <tr>\n",
       "      <th>11</th>\n",
       "      <td>2019-08-18</td>\n",
       "      <td>0.037198</td>\n",
       "      <td>0.033503</td>\n",
       "      <td>0.0037</td>\n",
       "    </tr>\n",
       "    <tr>\n",
       "      <th>12</th>\n",
       "      <td>2019-08-27</td>\n",
       "      <td>0.119814</td>\n",
       "      <td>0.122445</td>\n",
       "      <td>-0.0026</td>\n",
       "    </tr>\n",
       "  </tbody>\n",
       "</table>\n",
       "</div>"
      ],
      "text/plain": [
       "          Date  test_rate  control_rate  rate_diff\n",
       "0   2019-08-11   0.178133      0.058375     0.1198\n",
       "1   2019-08-25   0.181034      0.091167     0.0899\n",
       "2   2019-08-02   0.145373      0.063009     0.0824\n",
       "3   2019-08-29   0.088485      0.041098     0.0474\n",
       "4   2019-08-26   0.074346      0.046182     0.0282\n",
       "5   2019-08-07   0.210851      0.189015     0.0218\n",
       "6   2019-08-09   0.102313      0.080833     0.0215\n",
       "7   2019-08-03   0.073304      0.057160     0.0161\n",
       "8   2019-08-22   0.062288      0.056554     0.0057\n",
       "9   2019-08-15   0.079712      0.074755     0.0050\n",
       "10  2019-08-20   0.120661      0.115981     0.0047\n",
       "11  2019-08-18   0.037198      0.033503     0.0037\n",
       "12  2019-08-27   0.119814      0.122445    -0.0026"
      ]
     },
     "execution_count": 39,
     "metadata": {},
     "output_type": "execute_result"
    }
   ],
   "source": [
    "query = \"\"\"\n",
    "    WITH daily_rates AS (\n",
    "      SELECT Campaign, Date, Purchases / Website_Clicks AS conv_rate\n",
    "      FROM campaign_data\n",
    "    )\n",
    "    SELECT\n",
    "      t.Date,\n",
    "      t.conv_rate AS test_rate,\n",
    "      c.conv_rate AS control_rate,\n",
    "      ROUND((t.conv_rate - c.conv_rate), 4) AS rate_diff\n",
    "    FROM daily_rates t\n",
    "    JOIN daily_rates c ON t.Date = c.Date\n",
    "    WHERE t.Campaign = 'Test Campaign'\n",
    "      AND c.Campaign = 'Control Campaign'\n",
    "    ORDER BY rate_diff DESC\n",
    "    LIMIT 13;\n",
    "\"\"\"\n",
    "result = pysqldf(query)\n",
    "result"
   ]
  },
  {
   "cell_type": "markdown",
   "id": "0667dace-f97e-44fb-80d6-b5d47c873df7",
   "metadata": {},
   "source": [
    "On specific days, the Test Campaign significantly outperformed the Control Campaign in conversion rate.\n",
    "For example, on August 11th, the Test Campaign achieved a conversion rate of 17.8%, compared to just 5.8% for the Control Campaign - a difference of nearly 12 percentage points.\n",
    "\n",
    "Although there are a days where the Test Campaign had a higher conversion rate than the Control Campaign, these are not the majority of cases, the rate diff is negative on the 13th row (number 12), meaning the Test Campaign had a higher conversion rate 12 days out of 30.\n",
    "\n",
    "Given that the dataset spans 30 days, and only a 12 days show the Test Campaign outperforming, it suggests that overall, the Control Campaign maintained stronger and more consistent performance in driving purchases from clicks."
   ]
  }
 ],
 "metadata": {
  "kernelspec": {
   "display_name": "Python 3 (ipykernel)",
   "language": "python",
   "name": "python3"
  },
  "language_info": {
   "codemirror_mode": {
    "name": "ipython",
    "version": 3
   },
   "file_extension": ".py",
   "mimetype": "text/x-python",
   "name": "python",
   "nbconvert_exporter": "python",
   "pygments_lexer": "ipython3",
   "version": "3.12.0"
  }
 },
 "nbformat": 4,
 "nbformat_minor": 5
}
